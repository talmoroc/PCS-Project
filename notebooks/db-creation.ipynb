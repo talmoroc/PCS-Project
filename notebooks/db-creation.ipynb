{
  "nbformat": 4,
  "nbformat_minor": 0,
  "metadata": {
    "colab": {
      "name": "NLP project.ipynb",
      "provenance": [],
      "collapsed_sections": [
        "MM4LKSzhDlKo"
      ],
      "include_colab_link": true
    },
    "kernelspec": {
      "display_name": "Python 3",
      "name": "python3"
    },
    "language_info": {
      "name": "python"
    }
  },
  "cells": [
    {
      "cell_type": "markdown",
      "metadata": {
        "id": "view-in-github",
        "colab_type": "text"
      },
      "source": [
        "<a href=\"https://colab.research.google.com/github/talmoroc/ROME-and-PCS-NLP-Project/blob/main/db-creation.ipynb\" target=\"_parent\"><img src=\"https://colab.research.google.com/assets/colab-badge.svg\" alt=\"Open In Colab\"/></a>"
      ]
    },
    {
      "cell_type": "markdown",
      "metadata": {
        "id": "Nt4pgN9zET8I"
      },
      "source": [
        "# Data upload"
      ]
    },
    {
      "cell_type": "code",
      "metadata": {
        "id": "K7Rl9PadvqpG"
      },
      "source": [
        "import zipfile, requests\n",
        "from io import BytesIO\n",
        "from io import StringIO\n",
        "\n",
        "zip_url = 'https://www.data.gouv.fr/fr/datasets/r/9ed5d77e-180f-4358-909c-91d64f277a49'\n",
        "r = requests.get(zip_url)\n",
        "z = zipfile.ZipFile(BytesIO(r.content))\n",
        "z.extractall(\"/content/fiches_metier\")"
      ],
      "execution_count": 1,
      "outputs": []
    },
    {
      "cell_type": "markdown",
      "metadata": {
        "id": "Sfb2xVF5ogG9"
      },
      "source": [
        "# Preprocessing of the data"
      ]
    },
    {
      "cell_type": "markdown",
      "metadata": {
        "id": "V-BLfC1tP3vd"
      },
      "source": [
        "### Packages for pdf processing"
      ]
    },
    {
      "cell_type": "code",
      "metadata": {
        "colab": {
          "base_uri": "https://localhost:8080/"
        },
        "id": "aZ10dvsRnDZl",
        "outputId": "9b3366dd-2bb1-4b00-f3c9-03b456de7e75"
      },
      "source": [
        "# Package not directly available in Colab\n",
        "!pip install pdfminer"
      ],
      "execution_count": 2,
      "outputs": [
        {
          "output_type": "stream",
          "text": [
            "Requirement already satisfied: pdfminer in /usr/local/lib/python3.7/dist-packages (20191125)\n",
            "Requirement already satisfied: pycryptodome in /usr/local/lib/python3.7/dist-packages (from pdfminer) (3.10.1)\n"
          ],
          "name": "stdout"
        }
      ]
    },
    {
      "cell_type": "code",
      "metadata": {
        "colab": {
          "base_uri": "https://localhost:8080/"
        },
        "id": "krSlculMotnL",
        "outputId": "c485e659-081e-4638-fa16-54652a962b0a"
      },
      "source": [
        "# Layout analysis\n",
        "from pdfminer.converter import TextConverter\n",
        "from pdfminer.pdfinterp import PDFResourceManager, PDFPageInterpreter\n",
        "from pdfminer.pdfpage import PDFPage\n",
        "from pdfminer.pdfdocument import PDFDocument\n",
        "from pdfminer.layout import LAParams\n",
        "\n",
        "# Parsing\n",
        "from pdfminer.pdfparser import PDFParser\n",
        "import argparse\n",
        "\n",
        "# Encoding to string\n",
        "from pdfminer.converter import TextConverter\n",
        "from io import StringIO \n",
        "print(\"done\")"
      ],
      "execution_count": 3,
      "outputs": [
        {
          "output_type": "stream",
          "text": [
            "done\n"
          ],
          "name": "stdout"
        }
      ]
    },
    {
      "cell_type": "markdown",
      "metadata": {
        "id": "pG3P870Tofgz"
      },
      "source": [
        "### Converting PDF to text"
      ]
    },
    {
      "cell_type": "code",
      "metadata": {
        "id": "m4wx5c1suUpR"
      },
      "source": [
        "# Custom functions that convert the pdf to a structured string list\n",
        "\n",
        "def convert_pdf_to_string(file_path):\n",
        "\n",
        "\toutput_string = StringIO()\n",
        "\twith open(file_path, 'rb') as in_file:\n",
        "\t    parser = PDFParser(in_file)\n",
        "\t    doc = PDFDocument(parser)\n",
        "\t    rsrcmgr = PDFResourceManager()\n",
        "\t    device = TextConverter(rsrcmgr, output_string, laparams=LAParams())\n",
        "\t    interpreter = PDFPageInterpreter(rsrcmgr, device)\n",
        "\t    for page in PDFPage.create_pages(doc):\n",
        "\t        interpreter.process_page(page)\n",
        "\n",
        "\treturn(output_string.getvalue())"
      ],
      "execution_count": 223,
      "outputs": []
    },
    {
      "cell_type": "markdown",
      "metadata": {
        "id": "HgzavSo9Qhld"
      },
      "source": [
        "### Processing of the text"
      ]
    },
    {
      "cell_type": "code",
      "metadata": {
        "id": "hmS9JWv7iVPx"
      },
      "source": [
        "import numpy as np\n",
        "import pandas as pd\n",
        "import random\n",
        "import re\n",
        "from collections import Counter"
      ],
      "execution_count": 224,
      "outputs": []
    },
    {
      "cell_type": "code",
      "metadata": {
        "id": "Temq4XQAFWQz"
      },
      "source": [
        "def text_cleaning(raw, split, parasites):\n",
        "  clean = raw.split(split)\n",
        "  for p in parasites :\n",
        "    clean = list(filter(lambda a: a != p, clean))\n",
        "  return clean\n",
        "\n",
        "def paging(skill_clean, ref):\n",
        "  pages=[]\n",
        "  i_pages = [-1]+[i for i,x in enumerate(skill_clean) if x in ['1/','2/','3/','4/','5/','6/','7/','8/','9/','0/']]\n",
        "  for i in range(len(i_pages)-1):\n",
        "    pages.append(skill_clean[i_pages[i]+1:i_pages[i+1]])\n",
        "  return pages\n",
        "\n",
        "def clean(page,ref):\n",
        "  to_remove=[]\n",
        "  for s in page:\n",
        "    if re.match('^[A-Za-z]{1,2}$', s) != None:\n",
        "      to_remove.append(s)\n",
        "  clean_page = [x for x in page if x not in to_remove]\n",
        "  return clean_page"
      ],
      "execution_count": 235,
      "outputs": []
    },
    {
      "cell_type": "code",
      "metadata": {
        "id": "ePg6CIsk_6S4"
      },
      "source": [
        "def skills_extraction(pages,ref):\n",
        "  skills_dict = {'Skills':[],\n",
        "               'Environnements de travail':[],\n",
        "               'Mobilité professionnelle':[]}\n",
        "\n",
        "  def category(x):\n",
        "    category_regexp = '.*v [ ]+(.*)'\n",
        "    category_regexp_envt = '(Structures)|(Secteurs)|(Conditions)'\n",
        "    subcategory_regexp = '.*(Savoir-faire)$|.*(Savoirs)$|.*(Environnements de travail)'\n",
        "    test_cat = re.match(category_regexp, x)\n",
        "    test_cat_envt = re.match(category_regexp_envt, x)\n",
        "    test_subcat = re.match(subcategory_regexp, x)\n",
        "    if test_cat_envt !=None:\n",
        "      return 'Environnements de travail'\n",
        "    elif test_cat != None and test_cat[1] == 'Mobilité professionnelle':\n",
        "      return test_cat[1]\n",
        "    elif test_cat != None and test_cat[1] != 'Environnements de travail':\n",
        "      return 'Skills'\n",
        "    elif test_subcat !=None:\n",
        "      return 'Subcategory'\n",
        "    else:\n",
        "      return False\n",
        "\n",
        "  for p in pages:\n",
        "    clean_page = clean(p, ref)\n",
        "    current_category = \"Skills\"\n",
        "    for element in clean_page:\n",
        "      cat = category(element)\n",
        "      if cat not in (False, 'Subcategory'):\n",
        "        current_category = cat\n",
        "      elif not cat:\n",
        "        if current_category == 'Mobilité professionnelle':\n",
        "          if re.match('^o ', element) != None:\n",
        "            skills_dict['Environnements de travail'].append(element.strip('o '))\n",
        "          else:\n",
        "            skills_dict[current_category].append(element)\n",
        "        elif re.match('^o ', element) != None:\n",
        "          skills_dict[current_category].append(element.strip('o '))\n",
        "        else:\n",
        "          skills_dict[current_category][-1] += \" \"+element\n",
        "\n",
        "  return skills_dict"
      ],
      "execution_count": 243,
      "outputs": []
    },
    {
      "cell_type": "code",
      "metadata": {
        "id": "t135IBlzO45p"
      },
      "source": [
        "def get_info_header(header):\n",
        "  appellations = re.findall('o  [ ]*(.*)',header)\n",
        "  stripped_header = re.sub('o  [ ]*(.*)','',header)\n",
        "  title = re.findall('[A-Z][0-9]{4} - (.*)', stripped_header)[0]\n",
        "  stripped_header = stripped_header.replace('\\n','')\n",
        "  definitions = re.findall(\"Définition(.*)Accès à l\\'emploi métier\",stripped_header)[0]\n",
        "  access = re.findall(\"Accès à l'emploi métier(.*)Conditions d\\'exercice de l\\'activité\",stripped_header)[0]\n",
        "  conditions = re.findall(\"Conditions d\\'exercice de l\\'activité(.*)\",stripped_header)[0]\n",
        "\n",
        "  return title, appellations, definitions, access, conditions\n"
      ],
      "execution_count": 244,
      "outputs": []
    },
    {
      "cell_type": "code",
      "metadata": {
        "id": "_4fwTCUzCeeE"
      },
      "source": [
        "def get_info_skills(skills, ref):\n",
        "  parasites = ['','Toutes les appellations', '-', 'Pôle emploi - Direction Générale','v  Environnements de travail',\n",
        "              \"© Copyright 2021 Pôle Emploi. Reproduction et diffusion interdites sans l'accord de Pôle emploi\",\n",
        "              'Mars 2021', 'n','Fiche ROME', 'Fiches ROME proches','Emplois / Métiers proches',\n",
        "              'Emplois / Métiers envisageables si évolution', 'Fiches ROME envisageables si évolution','Fiche ROME '+ref]\n",
        "  skill_clean  = text_cleaning(skills, '\\n', parasites)\n",
        "  pages = paging(skill_clean, ref)\n",
        "  skills_dict = skills_extraction(pages, ref)\n",
        "  return skills_dict['Skills'], skills_dict['Environnements de travail'], skills_dict['Mobilité professionnelle']"
      ],
      "execution_count": 245,
      "outputs": []
    },
    {
      "cell_type": "code",
      "metadata": {
        "id": "Arq5cVqpEU8n"
      },
      "source": [
        "def features_extraction(ref):\n",
        "  info_dictionary = {}\n",
        "\n",
        "  # Extracting the raw file\n",
        "  raw = convert_pdf_to_string(f'/content/fiches_metier/{ref}.pdf')\n",
        "\n",
        "  # Splitting the file into two parts\n",
        "  header, skills = raw.split('v  Compétences de base',1)\n",
        "  skills = 'v  Compétences de base'+skills\n",
        "  \n",
        "  # Extracting info from the first part of the file\n",
        "  info_dictionary['Title'], info_dictionary['Appellations'], info_dictionary['Definition'], info_dictionary['Accessibility'], info_dictionary['Working Conditions'] = get_info_header(header)\n",
        "\n",
        "  # Extracting info from the second part of the file\n",
        "  skills, working_environment, mobility = get_info_skills(skills, ref)\n",
        "  info_dictionary['Skills'] = skills\n",
        "  info_dictionary['Environment'] = working_environment\n",
        "  codes_mobility = [re.match('[A-Z][0-9]{4}', m)[0] for m in mobility if re.match('[A-Z][0-9]{4}', m)!=None]\n",
        "  info_dictionary['Mobility'] = list(dict.fromkeys(codes_mobility))\n",
        "\n",
        "  return info_dictionary\n",
        "\n"
      ],
      "execution_count": 255,
      "outputs": []
    },
    {
      "cell_type": "markdown",
      "metadata": {
        "id": "P7eV4l1Ur9Gm"
      },
      "source": [
        "## Retrieving information from all occupation files"
      ]
    },
    {
      "cell_type": "code",
      "metadata": {
        "id": "xhP9WEhDHwxj"
      },
      "source": [
        "import os"
      ],
      "execution_count": 247,
      "outputs": []
    },
    {
      "cell_type": "code",
      "metadata": {
        "colab": {
          "base_uri": "https://localhost:8080/"
        },
        "id": "40fq0xIrbDdw",
        "outputId": "75de98f4-52ef-4353-a343-64538254bbc5"
      },
      "source": [
        "# List of the references of fiches métiers\n",
        "\n",
        "ref_list = [fiche.strip('.pdf') for fiche in os.listdir('/content/fiches_metier') if fiche != '.ipynb_checkpoints']\n",
        "print(f'Occupation files : {ref_list[:5]}...')\n",
        "print(f'Total number : {len(ref_list)}')"
      ],
      "execution_count": 248,
      "outputs": [
        {
          "output_type": "stream",
          "text": [
            "Occupation files : ['E1107', 'K1205', 'B1303', 'K1202', 'D1507']...\n",
            "Total number : 532\n"
          ],
          "name": "stdout"
        }
      ]
    },
    {
      "cell_type": "code",
      "metadata": {
        "id": "X0sYSJDbgXQf"
      },
      "source": [
        "# Dictionary of all the information about occupations\n",
        "\n",
        "occupation_dictionary = dict([(ref, features_extraction(ref)) for ref in ref_list])"
      ],
      "execution_count": 256,
      "outputs": []
    },
    {
      "cell_type": "code",
      "metadata": {
        "id": "rxystQzaM4K8",
        "colab": {
          "base_uri": "https://localhost:8080/"
        },
        "outputId": "2cedfa9b-55ef-47ba-81e1-fc37a6145f6f"
      },
      "source": [
        "# Looking at the mobility information\n",
        "\n",
        "rf = random.choice(ref_list)\n",
        "print(rf, occupation_dictionary[rf]['Title'])\n",
        "print(occupation_dictionary[rf]['Mobility'])\n",
        "print([occupation_dictionary.get(m)['Title'] for m in occupation_dictionary[rf]['Mobility']])"
      ],
      "execution_count": 33,
      "outputs": [
        {
          "output_type": "stream",
          "text": [
            "L1502 Costume et habillage spectacle\n",
            "Counter({'L1502': 5, 'B1801': 1, 'B1803': 1, 'B1805': 1, 'D1206': 1, 'H1205': 1})\n",
            "['Costume et habillage spectacle', \"Réalisation d'articles de chapellerie\", 'Réalisation de vêtements sur mesure ou en petite série', 'Stylisme', \"Réparation d'articles en cuir et matériaux souples\", 'Études - modèles en industrie des matériaux souples']\n"
          ],
          "name": "stdout"
        }
      ]
    },
    {
      "cell_type": "code",
      "metadata": {
        "id": "0ee-QjhgaolN",
        "colab": {
          "base_uri": "https://localhost:8080/",
          "height": 320
        },
        "outputId": "b587c909-d50e-4690-85cf-cf24a8a6b719"
      },
      "source": [
        "print(\"Nombre de caractères moyen d'un skill :\", np.mean([np.mean([len(skill) for skill in occupation_dictionary[ref]['Skills']]) for ref in ref_list]))\n",
        "print(\"Total de caractères : \", np.sum([np.sum([len(skill) for skill in occupation_dictionary[ref]['Skills']]) for ref in ref_list]))\n",
        "print(\"Répartition des nombres de skills par fiche métier :\")\n",
        "\n",
        "import matplotlib.pyplot as plt\n",
        "plt.hist([len(occupation_dictionary[ref]['Skills']) for ref in ref_list]);\n",
        "# Nombre de caractères moyen d'un skill : 41.71413728527632\n",
        "# Total de caractères :  1145833\n",
        "# Répartition des nombres de skills par fiche métier :"
      ],
      "execution_count": 259,
      "outputs": [
        {
          "output_type": "stream",
          "text": [
            "Nombre de caractères moyen d'un skill : 43.787511537119094\n",
            "Total de caractères :  1155307\n",
            "Répartition des nombres de skills par fiche métier :\n"
          ],
          "name": "stdout"
        },
        {
          "output_type": "display_data",
          "data": {
            "image/png": "[encoded data removed]",
            "text/plain": [
              "<Figure size 432x288 with 1 Axes>"
            ]
          },
          "metadata": {
            "tags": [],
            "needs_background": "light"
          }
        }
      ]
    },
    {
      "cell_type": "markdown",
      "metadata": {
        "id": "xDdM8DFCN0nE"
      },
      "source": [
        "# Base de classification des métiers"
      ]
    },
    {
      "cell_type": "code",
      "metadata": {
        "id": "99_maOPIN-w8"
      },
      "source": [
        "# importation de la base d'équivalence FAP-PCS-ROME\n",
        "import pandas as pd"
      ],
      "execution_count": null,
      "outputs": []
    },
    {
      "cell_type": "code",
      "metadata": {
        "colab": {
          "base_uri": "https://localhost:8080/"
        },
        "id": "lSclAbX-7Rc5",
        "outputId": "3c3cdb6b-8f7b-4e11-e6cb-fc6281dd2436"
      },
      "source": [
        "from google.colab import drive\n",
        "drive.mount('/content/drive')"
      ],
      "execution_count": null,
      "outputs": [
        {
          "output_type": "stream",
          "text": [
            "Drive already mounted at /content/drive; to attempt to forcibly remount, call drive.mount(\"/content/drive\", force_remount=True).\n"
          ],
          "name": "stdout"
        }
      ]
    },
    {
      "cell_type": "code",
      "metadata": {
        "id": "AVSleoYFOKCC"
      },
      "source": [
        "convertPCS_ROME = pandas.read_excel(\"/content/drive/MyDrive/NLP Project/Fichier ROME-PCS au propre.xls\")\n",
        "convertPCS = pandas.read_excel(\"/content/drive/MyDrive/NLP Project/PCS classification 2.xls\")"
      ],
      "execution_count": null,
      "outputs": []
    },
    {
      "cell_type": "code",
      "metadata": {
        "id": "F0Zpc-K1_pQv"
      },
      "source": [
        "# but : convertir les catégories 3 de PCS en catégorie 2\n",
        "# comment on s'y prend : on a le code de la PCS dans la base PCS-ROME. \n",
        "# Les deux premiers chiffres de la PCS dans la classfication de niveau 3 correspondent à la PCS de classification niveau 2.\n",
        "# Exception : pour les agriculteurs, où la PCS commence juste avec le 1.\n",
        "\n",
        "# récupération dans la base ROME des deux premiers caractères\n",
        "\n",
        "\n",
        "# matching avec la conversion catégorie 2/ catégore 3 de l'INSEE pour obtenir la classification de type 2.\n",
        "convertPCS_ROME[\"PCS niveau 2\"] = convertPCS_ROME[\"PCS\"]\n",
        "convertPCS_ROME[\"PCS niveau 2\"] =  convertPCS_ROME[\"PCS niveau 2\"].map(lambda x: x[0:2])"
      ],
      "execution_count": null,
      "outputs": []
    },
    {
      "cell_type": "markdown",
      "metadata": {
        "id": "OYmKHDFSJZtU"
      },
      "source": [
        "Comme le code agriculteur dans la classification 2 est 10 et non pas 11, 12, 13, on va recoder cette information avant de faire un merging."
      ]
    },
    {
      "cell_type": "code",
      "metadata": {
        "id": "b47GrSf1JJBG"
      },
      "source": [
        "convertPCS_ROME[\"PCS niveau 2\"] =  convertPCS_ROME[\"PCS niveau 2\"].map(lambda x: str(x).replace(\"11\",'10'))\n",
        "convertPCS_ROME[\"PCS niveau 2\"] =  convertPCS_ROME[\"PCS niveau 2\"].map(lambda x: str(x).replace(\"12\",'10'))\n",
        "convertPCS_ROME[\"PCS niveau 2\"] =  convertPCS_ROME[\"PCS niveau 2\"].map(lambda x: str(x).replace(\"13\",'10'))"
      ],
      "execution_count": null,
      "outputs": []
    },
    {
      "cell_type": "code",
      "metadata": {
        "id": "BfwBvp6qJAqX"
      },
      "source": [
        "# on fait en sorte que les catégories de la table de conversion d'une PCS à \n",
        "#une autre et d'une PCS à une ROME est une colonne commune avec le même type\n",
        "convertPCS[\"Code\"] = convertPCS[\"Code\"].astype(str)\n",
        "# on peut merger\n",
        "convertPCS_ROME = pandas.merge(convertPCS, convertPCS_ROME, left_on = \"Code\", right_on = \"PCS niveau 2\")"
      ],
      "execution_count": null,
      "outputs": []
    },
    {
      "cell_type": "code",
      "metadata": {
        "colab": {
          "base_uri": "https://localhost:8080/",
          "height": 283
        },
        "id": "mMBBXXnUOpYz",
        "outputId": "53cb55de-3f20-49ec-812b-2bdf25c2268f"
      },
      "source": [
        "# on observe un peu les données pour voir si elles sont bien regroupés\n",
        "convertPCS_ROME[\"Code\"].hist()\n",
        "# il semblerait que les catégories du type 20 et 40 ne sont pas très nombreuses, (voir si c'est cohérent aussi)\n",
        "# pour éviter des problèmes, on peut les regrouper\n",
        "\n"
      ],
      "execution_count": null,
      "outputs": [
        {
          "output_type": "execute_result",
          "data": {
            "text/plain": [
              "<matplotlib.axes._subplots.AxesSubplot at 0x7f8fbc9ca7d0>"
            ]
          },
          "metadata": {
            "tags": []
          },
          "execution_count": 31
        },
        {
          "output_type": "display_data",
          "data": {
            "image/png": "[encoded data removed]",
            "text/plain": [
              "<Figure size 432x288 with 1 Axes>"
            ]
          },
          "metadata": {
            "tags": []
          }
        }
      ]
    },
    {
      "cell_type": "code",
      "metadata": {
        "id": "uURZPnqwOxn2"
      },
      "source": [
        "convertPCS_ROME[\"Code\"] =  convertPCS_ROME[\"Code\"].map(lambda x: str(x).replace(\"11\",'10'))\n",
        "\n"
      ],
      "execution_count": null,
      "outputs": []
    },
    {
      "cell_type": "code",
      "metadata": {
        "id": "_avSjS1wO4x1"
      },
      "source": [
        "# arborescence ROME\n",
        "\n",
        "# voir combien de fiche ROME par PCS\n",
        "# dans le dictionnaire :\n",
        "# titre de la fiche\n",
        "# les appelations\n",
        "# la définition\n",
        "# l'accessibilité (diplôme)\n",
        "# condition de travail\n",
        "# connaissance de base\n",
        "# savoir faire\n",
        "# environnement de travail\n"
      ],
      "execution_count": null,
      "outputs": []
    },
    {
      "cell_type": "code",
      "metadata": {
        "id": "OcOtUUAZUpJj"
      },
      "source": [
        "# PREPROCESSING\n",
        "\n",
        "# TOKENISATION\n",
        "# LEMMATIZATION\n",
        "# POS TAGGING NER"
      ],
      "execution_count": null,
      "outputs": []
    },
    {
      "cell_type": "code",
      "metadata": {
        "id": "0I-yYBh1Uhlj"
      },
      "source": [
        "# BONUS ANALYTIQUES\n",
        "# Inclure les diplômes ou pas => voir si les PCS sont liées au diplôme\n",
        "# Voir la cohérence entre les prédictions et le réseau de mobilité professionnelle"
      ],
      "execution_count": null,
      "outputs": []
    },
    {
      "cell_type": "code",
      "metadata": {
        "id": "bgSwjGrmY4Fz"
      },
      "source": [
        "# MODELES\n",
        "\n",
        "# Solution bourrin à tester en premier : tout concaténer et faire tourner un modèle NLP (BERT ou LSTM si ça marche pas, ou si on arrive à tester ça vite)\n",
        "# ==> mécanismes d'attention.\n",
        "\n",
        "# Combiner deux modèles sur les 2 sous-ensembles de données ?\n",
        "# ==> Comparaison possible et moyenne des probabilités\n",
        "# Modèle sur les skills: faire un modèle de ML classique? Random Forest?\n",
        "\n",
        "# Faire un réseau de neurone qui s'applique spécialement à des phrases courtes au lieu de l'algo de ML ?\n",
        "# Trouver un modèle qui traite l'ensemble des données — paramétrisation qui permettre de traduire la disparité des données"
      ],
      "execution_count": null,
      "outputs": []
    },
    {
      "cell_type": "code",
      "metadata": {
        "id": "pa41gSc9Xld7"
      },
      "source": [
        ""
      ],
      "execution_count": null,
      "outputs": []
    }
  ]
}
